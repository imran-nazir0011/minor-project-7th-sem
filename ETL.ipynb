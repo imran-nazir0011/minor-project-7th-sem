{
 "cells": [
  {
   "cell_type": "code",
   "execution_count": 6,
   "metadata": {},
   "outputs": [],
   "source": [
    "import pandas as pd \n",
    "import numpy as np\n",
    "import matplotlib.pyplot as plt\n",
    "from ltspice import  Ltspice"
   ]
  },
  {
   "cell_type": "code",
   "execution_count": 7,
   "metadata": {},
   "outputs": [
    {
     "data": {
      "text/plain": [
       "<ltspice.ltspice.Ltspice at 0x205a58aa9d0>"
      ]
     },
     "execution_count": 7,
     "metadata": {},
     "output_type": "execute_result"
    }
   ],
   "source": [
    "raw_file_path='simulation/optimize_C1.raw'\n",
    "lt=Ltspice(raw_file_path)\n",
    "lt.parse()"
   ]
  },
  {
   "cell_type": "code",
   "execution_count": 8,
   "metadata": {},
   "outputs": [
    {
     "name": "stdout",
     "output_type": "stream",
     "text": [
      "Available Signals:\n",
      "['time', 'V(n004)', 'V(n002)', 'V(n003)', 'V(n005)', 'V(n001)', 'V(n006)', 'Id(M1)', 'Ig(M1)', 'Ib(M1)', 'Is(M1)', 'Id(M2)', 'Ig(M2)', 'Ib(M2)', 'Is(M2)', 'Id(M3)', 'Ig(M3)', 'Ib(M3)', 'Is(M3)', 'Id(M4)', 'Ig(M4)', 'Ib(M4)', 'Is(M4)', 'Id(M5)', 'Ig(M5)', 'Ib(M5)', 'Is(M5)', 'Id(M6)', 'Ig(M6)', 'Ib(M6)', 'Is(M6)', 'Id(M7)', 'Ig(M7)', 'Ib(M7)', 'Is(M7)', 'Id(M8)', 'Ig(M8)', 'Ib(M8)', 'Is(M8)', 'I(C1)', 'I(C2)', 'I(V1)', 'I(V2)', 'I(V3)']\n"
     ]
    },
    {
     "data": {
      "image/png": "[encoded data removed]",
      "text/plain": [
       "<Figure size 640x480 with 1 Axes>"
      ]
     },
     "metadata": {},
     "output_type": "display_data"
    },
    {
     "name": "stdout",
     "output_type": "stream",
     "text": [
      "Simulation Flags:\n",
      "['', 'real', 'forward', 'stepped']\n",
      "Simulation Variables and Types:\n",
      "['time', 'V(n004)', 'V(n002)', 'V(n003)', 'V(n005)', 'V(n001)', 'V(n006)', 'Id(M1)', 'Ig(M1)', 'Ib(M1)', 'Is(M1)', 'Id(M2)', 'Ig(M2)', 'Ib(M2)', 'Is(M2)', 'Id(M3)', 'Ig(M3)', 'Ib(M3)', 'Is(M3)', 'Id(M4)', 'Ig(M4)', 'Ib(M4)', 'Is(M4)', 'Id(M5)', 'Ig(M5)', 'Ib(M5)', 'Is(M5)', 'Id(M6)', 'Ig(M6)', 'Ib(M6)', 'Is(M6)', 'Id(M7)', 'Ig(M7)', 'Ib(M7)', 'Is(M7)', 'Id(M8)', 'Ig(M8)', 'Ib(M8)', 'Is(M8)', 'I(C1)', 'I(C2)', 'I(V1)', 'I(V2)', 'I(V3)']\n"
     ]
    }
   ],
   "source": [
    "\n",
    "print(\"Available Signals:\")\n",
    "print(lt.variables)  \n",
    "\n",
    "time = lt.time  \n",
    "signal = lt.get_data('V(n005)')  \n",
    "\n",
    "\n",
    "plt.plot(time, signal)\n",
    "plt.title(\"Transient Analysis\")\n",
    "plt.xlabel(\"Time (s)\")\n",
    "plt.ylabel(\"Voltage (V)\")\n",
    "plt.grid()\n",
    "plt.show()\n",
    "\n",
    "\n",
    "print(\"Simulation Flags:\")\n",
    "print(lt.flags)  \n",
    "\n",
    "\n",
    "print(\"Simulation Variables and Types:\")\n",
    "print(lt.variables)  "
   ]
  },
  {
   "cell_type": "code",
   "execution_count": 9,
   "metadata": {},
   "outputs": [
    {
     "name": "stdout",
     "output_type": "stream",
     "text": [
      "Data saved successfully to results/capacitance_simulation_results.csv\n"
     ]
    }
   ],
   "source": [
    "\n",
    "start_value = 0.01  \n",
    "end_value = 10      \n",
    "increment = 0.5     \n",
    "\n",
    "capacitor_values = np.arange(start_value, end_value + increment, increment)\n",
    "sweep_steps = lt.case_count\n",
    "data = {'C(nF)': [], 'Time (ms)': [], 'Vout (mV)': [], 'Input (mV)': []}\n",
    "\n",
    "for i in range(sweep_steps):\n",
    "    time = lt.get_time(case=i)\n",
    "    vout = lt.get_data('V(n005)', case=i)\n",
    "    input_signal = lt.get_data('V(n003)', case=i)\n",
    "    \n",
    "    for t, v, v_in in zip(time, vout, input_signal):\n",
    "        data['C(nF)'].append(capacitor_values[i])  \n",
    "        data['Time (ms)'].append(t * 1000)  \n",
    "        data['Vout (mV)'].append(v * 1000)  \n",
    "        data['Input (mV)'].append(v_in * 1000)  \n",
    "\n",
    "df = pd.DataFrame(data)\n",
    "output_path = 'results/capacitance_simulation_results.csv'\n",
    "df.to_csv(output_path, index=False)\n",
    "\n",
    "print(f\"Data saved successfully to {output_path}\")\n"
   ]
  },
  {
   "cell_type": "code",
   "execution_count": 10,
   "metadata": {},
   "outputs": [
    {
     "name": "stdout",
     "output_type": "stream",
     "text": [
      "Data saved successfully to results/comprehensive_analysis_C1.csv\n"
     ]
    }
   ],
   "source": [
    "\n",
    "results = []\n",
    "\n",
    "for i in range(sweep_steps):\n",
    "    signal = lt.get_data('V(n005)', i)  \n",
    "    time = lt.get_time(i) \n",
    "    \n",
    "    peak_voltage = np.max(signal)\n",
    "    min_signal = np.min(signal)\n",
    "    ripple = peak_voltage - min_signal\n",
    "    settling_time = time[np.where(signal >= 0.98 * peak_voltage)[0][0]] if len(np.where(signal >= 0.98 * peak_voltage)[0]) > 0 else None\n",
    "    max_voltage = -float('inf')\n",
    "    min_voltage = float('inf')\n",
    "\n",
    "    if peak_voltage > max_voltage:\n",
    "        max_voltage = peak_voltage\n",
    "        optimal_c1 = float(f\"{capacitor_values[i]:.4f}\")\n",
    "        optimal_step = i\n",
    "\n",
    "    min_voltage = min(min_voltage, min_signal)\n",
    "\n",
    "    results.append({\n",
    "        'Capacitance (C1) [nF]': float(f\"{capacitor_values[i]:.4f}\"),\n",
    "        'Peak Voltage [mV]': peak_voltage * 1000,    \n",
    "        'Min Voltage [mV]': min_signal * 1000,        \n",
    "        'Ripple Voltage [mV]': ripple * 1000,          \n",
    "        'Settling Time (ms)': settling_time * 1000 if settling_time is not None else None,    \n",
    "    })\n",
    "\n",
    "results_df = pd.DataFrame(results)\n",
    "output_path = \"results/comprehensive_analysis_C1.csv\"\n",
    "results_df.to_csv(output_path, index=False)\n",
    "\n",
    "print(f\"Data saved successfully to {output_path}\")\n"
   ]
  },
  {
   "cell_type": "code",
   "execution_count": 2,
   "metadata": {},
   "outputs": [
    {
     "data": {
      "text/plain": [
       "<ltspice.ltspice.Ltspice at 0x20599792610>"
      ]
     },
     "execution_count": 2,
     "metadata": {},
     "output_type": "execute_result"
    }
   ],
   "source": [
    "raw_file_path='simulation/optimize_Fosc.raw'\n",
    "lt=Ltspice(raw_file_path)\n",
    "lt.parse()"
   ]
  },
  {
   "cell_type": "code",
   "execution_count": 11,
   "metadata": {},
   "outputs": [
    {
     "name": "stdout",
     "output_type": "stream",
     "text": [
      "Available Signals:\n",
      "['time', 'V(n004)', 'V(n002)', 'V(n003)', 'V(n005)', 'V(n001)', 'V(n006)', 'Id(M1)', 'Ig(M1)', 'Ib(M1)', 'Is(M1)', 'Id(M2)', 'Ig(M2)', 'Ib(M2)', 'Is(M2)', 'Id(M3)', 'Ig(M3)', 'Ib(M3)', 'Is(M3)', 'Id(M4)', 'Ig(M4)', 'Ib(M4)', 'Is(M4)', 'Id(M5)', 'Ig(M5)', 'Ib(M5)', 'Is(M5)', 'Id(M6)', 'Ig(M6)', 'Ib(M6)', 'Is(M6)', 'Id(M7)', 'Ig(M7)', 'Ib(M7)', 'Is(M7)', 'Id(M8)', 'Ig(M8)', 'Ib(M8)', 'Is(M8)', 'I(C1)', 'I(C2)', 'I(V1)', 'I(V2)', 'I(V3)']\n"
     ]
    },
    {
     "data": {
      "image/png": "[encoded data removed]",
      "text/plain": [
       "<Figure size 640x480 with 1 Axes>"
      ]
     },
     "metadata": {},
     "output_type": "display_data"
    },
    {
     "name": "stdout",
     "output_type": "stream",
     "text": [
      "Simulation Flags:\n",
      "['', 'real', 'forward', 'stepped']\n",
      "Simulation Variables and Types:\n",
      "['time', 'V(n004)', 'V(n002)', 'V(n003)', 'V(n005)', 'V(n001)', 'V(n006)', 'Id(M1)', 'Ig(M1)', 'Ib(M1)', 'Is(M1)', 'Id(M2)', 'Ig(M2)', 'Ib(M2)', 'Is(M2)', 'Id(M3)', 'Ig(M3)', 'Ib(M3)', 'Is(M3)', 'Id(M4)', 'Ig(M4)', 'Ib(M4)', 'Is(M4)', 'Id(M5)', 'Ig(M5)', 'Ib(M5)', 'Is(M5)', 'Id(M6)', 'Ig(M6)', 'Ib(M6)', 'Is(M6)', 'Id(M7)', 'Ig(M7)', 'Ib(M7)', 'Is(M7)', 'Id(M8)', 'Ig(M8)', 'Ib(M8)', 'Is(M8)', 'I(C1)', 'I(C2)', 'I(V1)', 'I(V2)', 'I(V3)']\n"
     ]
    }
   ],
   "source": [
    "\n",
    "\n",
    "\n",
    "print(\"Available Signals:\")\n",
    "print(lt.variables)  \n",
    "\n",
    "\n",
    "time = lt.time  \n",
    "signal = lt.get_data('V(n005)')  \n",
    "\n",
    "\n",
    "plt.plot(time, signal)\n",
    "plt.title(\"Transient Analysis\")\n",
    "plt.xlabel(\"Time (s)\")\n",
    "plt.ylabel(\"Voltage (V)\")\n",
    "plt.grid()\n",
    "plt.show()\n",
    "\n",
    "\n",
    "print(\"Simulation Flags:\")\n",
    "print(lt.flags)  \n",
    "\n",
    "\n",
    "print(\"Simulation Variables and Types:\")\n",
    "print(lt.variables)"
   ]
  },
  {
   "cell_type": "code",
   "execution_count": 4,
   "metadata": {},
   "outputs": [
    {
     "name": "stdout",
     "output_type": "stream",
     "text": [
      "Data saved successfully to results/frequency_sweep_simulation_results.csv\n"
     ]
    }
   ],
   "source": [
    "\n",
    "\n",
    "start_value = 20 \n",
    "end_value =  1000 \n",
    "increment = 50   \n",
    "\n",
    "frequency_values = np.arange(start_value, end_value + increment, +increment)  \n",
    "  \n",
    "sweep_steps = len(frequency_values)\n",
    "\n",
    "data = {'Frequency (KHz)': [], 'Time (ms)': [], 'Vout (mV)': [], 'Input (mV)': []}\n",
    "\n",
    "for i in range(sweep_steps):\n",
    "    time = lt.get_time(case=i)  \n",
    "    input_signal = lt.get_data(name='V(n003)', case=i)  \n",
    "    output_signal = lt.get_data(name='V(n005)', case=i)  \n",
    "    \n",
    "    for t, vin, vout in zip(time, input_signal, output_signal):\n",
    "        data['Frequency (KHz)'].append(frequency_values[i])\n",
    "        data['Time (ms)'].append(t * 1000)    \n",
    "        data['Vout (mV)'].append(vout * 1000)    \n",
    "        data['Input (mV)'].append(vin * 1000)    \n",
    "\n",
    "df = pd.DataFrame(data)\n",
    "\n",
    "output_path = 'results/frequency_sweep_simulation_results.csv'\n",
    "df.to_csv(output_path, index=False)\n",
    "\n",
    "print(f\"Data saved successfully to {output_path}\")\n"
   ]
  },
  {
   "cell_type": "code",
   "execution_count": 5,
   "metadata": {},
   "outputs": [
    {
     "name": "stdout",
     "output_type": "stream",
     "text": [
      "Data saved successfully to results/comprehensive_analysis_F_Osc.csv\n"
     ]
    }
   ],
   "source": [
    "results = []\n",
    "\n",
    "for i in range(sweep_steps):\n",
    "    signal = lt.get_data('V(n005)', i)  \n",
    "    time = lt.get_time(i)  \n",
    "\n",
    "    peak_voltage = np.max(signal)\n",
    "    min_signal = np.min(signal)\n",
    "    ripple = peak_voltage - min_signal\n",
    "    settling_time = time[np.where(signal >= 0.98 * peak_voltage)[0][0]] if len(np.where(signal >= 0.98 * peak_voltage)[0]) > 0 else None\n",
    "\n",
    "    max_voltage = -float('inf')\n",
    "    min_voltage = float('inf')\n",
    "\n",
    "    if peak_voltage > max_voltage:\n",
    "        max_voltage = peak_voltage\n",
    "        optimal_c1 = frequency_values[i]\n",
    "        optimal_step = i\n",
    "\n",
    "    min_voltage = min(min_voltage, min_signal)\n",
    "\n",
    "    results.append({\n",
    "        'Frequency (KHz)': frequency_values[i],\n",
    "        'Peak Voltage (mV)': peak_voltage * 1000,  \n",
    "        'Min Voltage (mV)': min_signal * 1000,  \n",
    "        'Ripple Voltage (mV)': ripple * 1000,  \n",
    "        'Settling Time (ms)': settling_time * 1000 if settling_time is not None else None,  \n",
    "    })\n",
    "\n",
    "output_path = \"results/comprehensive_analysis_F_Osc.csv\"\n",
    "results_df = pd.DataFrame(results)\n",
    "results_df.to_csv(output_path, index=False)\n",
    "print(f\"Data saved successfully to {output_path}\")\n"
   ]
  },
  {
   "cell_type": "code",
   "execution_count": 18,
   "metadata": {},
   "outputs": [
    {
     "data": {
      "text/plain": [
       "<ltspice.ltspice.Ltspice at 0x26e13bdafd0>"
      ]
     },
     "execution_count": 18,
     "metadata": {},
     "output_type": "execute_result"
    }
   ],
   "source": [
    "raw_file_path='simulation/optimize_R1.raw'\n",
    "lt=Ltspice(raw_file_path)\n",
    "lt.parse()"
   ]
  },
  {
   "cell_type": "code",
   "execution_count": 11,
   "metadata": {},
   "outputs": [
    {
     "name": "stdout",
     "output_type": "stream",
     "text": [
      "Available Signals:\n",
      "['time', 'V(n005)', 'V(n003)', 'V(n004)', 'V(n002)', 'V(n001)', 'V(n006)', 'Id(M1)', 'Ig(M1)', 'Ib(M1)', 'Is(M1)', 'Id(M2)', 'Ig(M2)', 'Ib(M2)', 'Is(M2)', 'Id(M3)', 'Ig(M3)', 'Ib(M3)', 'Is(M3)', 'Id(M4)', 'Ig(M4)', 'Ib(M4)', 'Is(M4)', 'Id(M5)', 'Ig(M5)', 'Ib(M5)', 'Is(M5)', 'Id(M6)', 'Ig(M6)', 'Ib(M6)', 'Is(M6)', 'Id(M7)', 'Ig(M7)', 'Ib(M7)', 'Is(M7)', 'Id(M8)', 'Ig(M8)', 'Ib(M8)', 'Is(M8)', 'I(C2)', 'I(C1)', 'I(R1)', 'I(V1)', 'I(V2)', 'I(V3)']\n",
      "Simulation Flags:\n",
      "['', 'real', 'forward', 'stepped']\n",
      "Simulation Variables and Types:\n",
      "['time', 'V(n005)', 'V(n003)', 'V(n004)', 'V(n002)', 'V(n001)', 'V(n006)', 'Id(M1)', 'Ig(M1)', 'Ib(M1)', 'Is(M1)', 'Id(M2)', 'Ig(M2)', 'Ib(M2)', 'Is(M2)', 'Id(M3)', 'Ig(M3)', 'Ib(M3)', 'Is(M3)', 'Id(M4)', 'Ig(M4)', 'Ib(M4)', 'Is(M4)', 'Id(M5)', 'Ig(M5)', 'Ib(M5)', 'Is(M5)', 'Id(M6)', 'Ig(M6)', 'Ib(M6)', 'Is(M6)', 'Id(M7)', 'Ig(M7)', 'Ib(M7)', 'Is(M7)', 'Id(M8)', 'Ig(M8)', 'Ib(M8)', 'Is(M8)', 'I(C2)', 'I(C1)', 'I(R1)', 'I(V1)', 'I(V2)', 'I(V3)']\n"
     ]
    }
   ],
   "source": [
    "\n",
    "print(\"Available Signals:\")\n",
    "print(lt.variables)  \n",
    "\n",
    "print(\"Simulation Flags:\")\n",
    "print(lt.flags)  \n",
    "\n",
    "\n",
    "print(\"Simulation Variables and Types:\")\n",
    "print(lt.variables)  "
   ]
  },
  {
   "cell_type": "code",
   "execution_count": 20,
   "metadata": {},
   "outputs": [
    {
     "name": "stdout",
     "output_type": "stream",
     "text": [
      "Data saved successfully to results/load_simulation_results.csv\n"
     ]
    }
   ],
   "source": [
    "\n",
    "start_value = 10  \n",
    "end_value = 1000     \n",
    "increment = 50     \n",
    "\n",
    "resistance_values = np.arange(start_value, end_value + increment, increment)\n",
    "sweep_steps = lt.case_count\n",
    "data = {'R(kΩ)': [], 'Time (ms)': [], 'Vout (mV)': [], 'Input (mV)': []}\n",
    "\n",
    "for i in range(sweep_steps):\n",
    "    time = lt.get_time(case=i)\n",
    "    vout = lt.get_data('V(n002)', case=i)\n",
    "    input_signal = lt.get_data('V(n004)', case=i)\n",
    "    \n",
    "    for t, v, v_in in zip(time, vout, input_signal):\n",
    "        data['R(kΩ)'].append(resistance_values[i])  \n",
    "        data['Time (ms)'].append(t * 1000)  \n",
    "        data['Vout (mV)'].append(v * 1000)  \n",
    "        data['Input (mV)'].append(v_in * 1000)  \n",
    "\n",
    "df = pd.DataFrame(data)\n",
    "output_path = 'results/load_simulation_results.csv'\n",
    "df.to_csv(output_path, index=False)\n",
    "\n",
    "print(f\"Data saved successfully to {output_path}\")\n"
   ]
  },
  {
   "cell_type": "code",
   "execution_count": 22,
   "metadata": {},
   "outputs": [
    {
     "name": "stdout",
     "output_type": "stream",
     "text": [
      "Data saved successfully to results/comprehensive_analysis_R1.csv\n"
     ]
    }
   ],
   "source": [
    "results = []\n",
    "\n",
    "for i in range(sweep_steps):\n",
    "    signal = lt.get_data('V(n002)', i)  \n",
    "    time = lt.get_time(i)  \n",
    "\n",
    "    peak_voltage = np.max(signal)\n",
    "    min_signal = np.min(signal)\n",
    "    ripple = peak_voltage - min_signal\n",
    "    settling_time = time[np.where(signal >= 0.98 * peak_voltage)[0][0]] if len(np.where(signal >= 0.98 * peak_voltage)[0]) > 0 else None\n",
    "\n",
    "    max_voltage = -float('inf')\n",
    "    min_voltage = float('inf')\n",
    "\n",
    "    if peak_voltage > max_voltage:\n",
    "        max_voltage = peak_voltage\n",
    "        \n",
    "    min_voltage = min(min_voltage, min_signal)\n",
    "\n",
    "\n",
    "    output_voltage = peak_voltage  \n",
    "    output_current = output_voltage / resistance_values[i]  \n",
    "    output_power = output_voltage * output_current  \n",
    "\n",
    "    results.append({\n",
    "        'Resistance (KΩ)': resistance_values[i],\n",
    "        'Peak Voltage (mV)': peak_voltage * 1000,  \n",
    "        'Min Voltage (mV)': min_signal * 1000,  \n",
    "        'Ripple Voltage (mV)': ripple * 1000,  \n",
    "        'Settling Time (ms)': settling_time * 1000 if settling_time is not None else None,  \n",
    "        'Output Power (nW)': output_power * 1000,  \n",
    "    })\n",
    "\n",
    "output_path = \"results/comprehensive_analysis_R1.csv\"\n",
    "results_df = pd.DataFrame(results)\n",
    "results_df.to_csv(output_path, index=False)\n",
    "print(f\"Data saved successfully to {output_path}\")\n"
   ]
  },
  {
   "cell_type": "code",
   "execution_count": 14,
   "metadata": {},
   "outputs": [
    {
     "data": {
      "text/plain": [
       "<ltspice.ltspice.Ltspice at 0x26e7418b350>"
      ]
     },
     "execution_count": 14,
     "metadata": {},
     "output_type": "execute_result"
    }
   ],
   "source": [
    "raw_file_path='simulation/optimizeC1&Fosc&R1.raw'\n",
    "lt=Ltspice(raw_file_path)\n",
    "lt.parse()"
   ]
  },
  {
   "cell_type": "code",
   "execution_count": 15,
   "metadata": {},
   "outputs": [
    {
     "name": "stdout",
     "output_type": "stream",
     "text": [
      "Available Signals:\n",
      "['time', 'V(n005)', 'V(n003)', 'V(n004)', 'V(n002)', 'V(n001)', 'V(n006)', 'Id(M1)', 'Ig(M1)', 'Ib(M1)', 'Is(M1)', 'Id(M2)', 'Ig(M2)', 'Ib(M2)', 'Is(M2)', 'Id(M3)', 'Ig(M3)', 'Ib(M3)', 'Is(M3)', 'Id(M4)', 'Ig(M4)', 'Ib(M4)', 'Is(M4)', 'Id(M5)', 'Ig(M5)', 'Ib(M5)', 'Is(M5)', 'Id(M6)', 'Ig(M6)', 'Ib(M6)', 'Is(M6)', 'Id(M7)', 'Ig(M7)', 'Ib(M7)', 'Is(M7)', 'Id(M8)', 'Ig(M8)', 'Ib(M8)', 'Is(M8)', 'I(C2)', 'I(C1)', 'I(R1)', 'I(V1)', 'I(V2)', 'I(V3)']\n",
      "Simulation Flags:\n",
      "['', 'real', 'forward', 'stepped']\n",
      "Simulation Variables and Types:\n",
      "['time', 'V(n005)', 'V(n003)', 'V(n004)', 'V(n002)', 'V(n001)', 'V(n006)', 'Id(M1)', 'Ig(M1)', 'Ib(M1)', 'Is(M1)', 'Id(M2)', 'Ig(M2)', 'Ib(M2)', 'Is(M2)', 'Id(M3)', 'Ig(M3)', 'Ib(M3)', 'Is(M3)', 'Id(M4)', 'Ig(M4)', 'Ib(M4)', 'Is(M4)', 'Id(M5)', 'Ig(M5)', 'Ib(M5)', 'Is(M5)', 'Id(M6)', 'Ig(M6)', 'Ib(M6)', 'Is(M6)', 'Id(M7)', 'Ig(M7)', 'Ib(M7)', 'Is(M7)', 'Id(M8)', 'Ig(M8)', 'Ib(M8)', 'Is(M8)', 'I(C2)', 'I(C1)', 'I(R1)', 'I(V1)', 'I(V2)', 'I(V3)']\n"
     ]
    }
   ],
   "source": [
    "\n",
    "print(\"Available Signals:\")\n",
    "print(lt.variables)  \n",
    "\n",
    "print(\"Simulation Flags:\")\n",
    "print(lt.flags)  \n",
    "\n",
    "print(\"Simulation Variables and Types:\")\n",
    "print(lt.variables)"
   ]
  },
  {
   "cell_type": "code",
   "execution_count": 16,
   "metadata": {},
   "outputs": [
    {
     "name": "stdout",
     "output_type": "stream",
     "text": [
      "Data saved successfully to results/simulation_results.csv\n"
     ]
    }
   ],
   "source": [
    "C1_vals = [0.5, 1, 2]\n",
    "clk_freq_vals = [250, 500, 1000]\n",
    "R_vals = [10, 100, 1000]\n",
    "\n",
    "combinations = np.array(np.meshgrid(C1_vals, clk_freq_vals, R_vals)).T.reshape(-1, 3)\n",
    "\n",
    "data = {'C1 (nF)': [], 'Clock Frequency (KHz)': [], 'R (kΩ)': [], 'Time (ms)': [], 'Vout (mV)': [], 'Input (mV)': []}\n",
    "\n",
    "sweep_steps = lt.case_count\n",
    "    \n",
    "for i in range(sweep_steps):\n",
    "        time = lt.get_time(case=i)\n",
    "        vout = lt.get_data('V(n002)', case=i)\n",
    "        input_signal = lt.get_data('V(n004)', case=i)\n",
    "        \n",
    "        for t, v, v_in in zip(time, vout, input_signal):\n",
    "            data['C1 (nF)'].append(combinations[i,0])\n",
    "            data['Clock Frequency (KHz)'].append(combinations[i,1])\n",
    "            data['R (kΩ)'].append(combinations[i,2])\n",
    "            data['Time (ms)'].append(t * 1000)\n",
    "            data['Vout (mV)'].append(v * 1000)\n",
    "            data['Input (mV)'].append(v_in * 1000)\n",
    "\n",
    "df = pd.DataFrame(data)\n",
    "\n",
    "output_path = 'results/simulation_results.csv'\n",
    "df.to_csv(output_path, index=False)\n",
    "\n",
    "print(f\"Data saved successfully to {output_path}\")"
   ]
  },
  {
   "cell_type": "code",
   "execution_count": 17,
   "metadata": {},
   "outputs": [
    {
     "name": "stdout",
     "output_type": "stream",
     "text": [
      "Data saved successfully to results/comprehensive_analysis.csv\n"
     ]
    }
   ],
   "source": [
    "results = []\n",
    "\n",
    "for i in range(sweep_steps):\n",
    "    signal = lt.get_data('V(n002)', i)  \n",
    "    time = lt.get_time(i)  \n",
    "\n",
    "    peak_voltage = np.max(signal)\n",
    "    min_signal = np.min(signal)\n",
    "    ripple = peak_voltage - min_signal\n",
    "    settling_time = time[np.where(signal >= 0.98 * peak_voltage)[0][0]] if len(np.where(signal >= 0.98 * peak_voltage)[0]) > 0 else None\n",
    "\n",
    "    max_voltage = -float('inf')\n",
    "    min_voltage = float('inf')\n",
    "\n",
    "    if peak_voltage > max_voltage:\n",
    "        max_voltage = peak_voltage\n",
    "        \n",
    "\n",
    "    min_voltage = min(min_voltage, min_signal)\n",
    "\n",
    "    results.append({\n",
    "        'Capacitance (nF)':combinations[i,0],\n",
    "        'Frequency (KHz)':combinations[i,1],\n",
    "        'Resistance (KΩ)': combinations[i,2],\n",
    "        'Peak Voltage (mV)': peak_voltage * 1000,  \n",
    "        'Min Voltage (mV)': min_signal * 1000,  \n",
    "        'Ripple Voltage (mV)': ripple * 1000,  \n",
    "        'Settling Time (ms)': settling_time * 1000 if settling_time is not None else None,  \n",
    "    })\n",
    "\n",
    "output_path = \"results/comprehensive_analysis.csv\"\n",
    "df = pd.DataFrame(results)\n",
    "df.to_csv(output_path, index=False)\n",
    "print(f\"Data saved successfully to {output_path}\")\n"
   ]
  }
 ],
 "metadata": {
  "kernelspec": {
   "display_name": "base",
   "language": "python",
   "name": "python3"
  },
  "language_info": {
   "codemirror_mode": {
    "name": "ipython",
    "version": 3
   },
   "file_extension": ".py",
   "mimetype": "text/x-python",
   "name": "python",
   "nbconvert_exporter": "python",
   "pygments_lexer": "ipython3",
   "version": "3.11.9"
  }
 },
 "nbformat": 4,
 "nbformat_minor": 2
}
